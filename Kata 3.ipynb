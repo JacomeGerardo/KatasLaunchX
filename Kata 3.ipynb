{
 "cells": [
  {
   "cell_type": "markdown",
   "metadata": {},
   "source": [
    "##Kata 2"
   ]
  },
  {
   "cell_type": "code",
   "execution_count": 10,
   "metadata": {},
   "outputs": [
    {
     "name": "stdout",
     "output_type": "stream",
     "text": [
      "Guao, vean el cielo\n"
     ]
    }
   ],
   "source": [
    "asteroide = 25\n",
    "if asteroide > 25:\n",
    "    print (\"¡Alerta!\")\n",
    "elif asteroide ==25:\n",
    "    print(\"Guao, vean el cielo\")\n",
    "else:\n",
    "    print(\"Todo bien, todo bien \")"
   ]
  },
  {
   "cell_type": "code",
   "execution_count": 12,
   "metadata": {},
   "outputs": [
    {
     "name": "stdout",
     "output_type": "stream",
     "text": [
      "Sigan con su vida tranquilamente y tomen agua :3\n"
     ]
    }
   ],
   "source": [
    "velocidad = 10\n",
    "tamano = 950\n",
    "if velocidad > 25 and tamano > 1000:\n",
    "    print(\"Alerta, un asteroide de grandes proporciones se dirige a la tierra\")\n",
    "elif velocidad >= 20:\n",
    "    print (\"Guao! Vean esa gran luz en el cielo\")\n",
    "elif tamano < 25:\n",
    "    print(\"No pasa nada, sigan con su día\")\n",
    "else :\n",
    "    print(\"Sigan con su vida tranquilamente y tomen agua :3\")"
   ]
  }
 ],
 "metadata": {
  "interpreter": {
   "hash": "7fcc193784bb334340e71d5e8060ff3281bfc6fe5965caccffdd0c0e6eb754c2"
  },
  "kernelspec": {
   "display_name": "Python 3.10.2 64-bit",
   "language": "python",
   "name": "python3"
  },
  "language_info": {
   "codemirror_mode": {
    "name": "ipython",
    "version": 3
   },
   "file_extension": ".py",
   "mimetype": "text/x-python",
   "name": "python",
   "nbconvert_exporter": "python",
   "pygments_lexer": "ipython3",
   "version": "3.10.2"
  },
  "orig_nbformat": 4
 },
 "nbformat": 4,
 "nbformat_minor": 2
}
