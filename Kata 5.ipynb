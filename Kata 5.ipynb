{
 "cells": [
  {
   "cell_type": "markdown",
   "metadata": {},
   "source": [
    "## Kata 5"
   ]
  },
  {
   "cell_type": "code",
   "execution_count": 12,
   "metadata": {},
   "outputs": [
    {
     "name": "stdout",
     "output_type": "stream",
     "text": [
      "628949330\n",
      "390577534\n"
     ]
    }
   ],
   "source": [
    "##Ejercicio 1\n",
    "\n",
    "tierra = 149597870\n",
    "jupiter = 778547200\n",
    "\n",
    "distancia = (tierra - jupiter)\n",
    "distancia_millas = distancia  * 0.621\n",
    "\n",
    "print(abs(distancia))\n",
    "\n",
    "from math import ceil, floor\n",
    "\n",
    "print(ceil(abs(distancia_millas)))"
   ]
  },
  {
   "cell_type": "code",
   "execution_count": 20,
   "metadata": {},
   "outputs": [],
   "source": [
    "planetaa = input(\"Ingrese la distancia del primer planeta al sol en KM\")\n",
    "planetab = input(\"Ingrese la distancia desde el segundo planeta al sol en KM\")\n",
    "\n",
    "planetaa = int(planetaa)\n",
    "planetab = int(planetab)\n",
    "\n",
    "resta = (planetaa - planetab)\n",
    "millas = resta * 0.621\n",
    "\n",
    "print = (planetaa)\n",
    "print = (planetab)"
   ]
  }
 ],
 "metadata": {
  "interpreter": {
   "hash": "7fcc193784bb334340e71d5e8060ff3281bfc6fe5965caccffdd0c0e6eb754c2"
  },
  "kernelspec": {
   "display_name": "Python 3.10.2 64-bit",
   "language": "python",
   "name": "python3"
  },
  "language_info": {
   "codemirror_mode": {
    "name": "ipython",
    "version": 3
   },
   "file_extension": ".py",
   "mimetype": "text/x-python",
   "name": "python",
   "nbconvert_exporter": "python",
   "pygments_lexer": "ipython3",
   "version": "3.10.2"
  },
  "orig_nbformat": 4
 },
 "nbformat": 4,
 "nbformat_minor": 2
}
