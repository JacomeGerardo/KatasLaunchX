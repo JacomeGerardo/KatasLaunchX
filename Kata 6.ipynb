{
 "cells": [
  {
   "cell_type": "markdown",
   "metadata": {},
   "source": [
    "## Kata 6"
   ]
  },
  {
   "cell_type": "code",
   "execution_count": 4,
   "metadata": {},
   "outputs": [
    {
     "name": "stdout",
     "output_type": "stream",
     "text": [
      "Actualmente existen 9 en el sistema solar\n",
      "El último planeta del sistema solar es: Pluto\n"
     ]
    }
   ],
   "source": [
    "planetas = [\"Mercurio\", \"Venus\", \"Tierra\", \"Marte\", \"Júpiter\", \"Saturno\", \"Urano\" , \"Neptuno\"]\n",
    "planetas.append(\"Pluto\")\n",
    "numero_de_planetas = len(planetas)\n",
    "print(\"Actualmente existen\", numero_de_planetas, \"en el sistema solar\")\n",
    "print(\"El último planeta del sistema solar es:\", planetas[8])"
   ]
  },
  {
   "cell_type": "code",
   "execution_count": 17,
   "metadata": {},
   "outputs": [
    {
     "name": "stdout",
     "output_type": "stream",
     "text": [
      "Estos son los planetas más cercanos a: Tierra\n",
      "['Mercurio', 'Venus']\n",
      "Los planetas más lejanos a este son:Tierra\n",
      "['Marte', 'Júpiter', 'Saturno', 'Urano', 'Neptuno']\n"
     ]
    }
   ],
   "source": [
    "planetas = [\"Mercurio\", \"Venus\", \"Tierra\", \"Marte\", \"Júpiter\", \"Saturno\", \"Urano\", \"Neptuno\"]\n",
    "datos = input('Please enter the name of the planet (with a capital letter to start)')\n",
    "\n",
    "planet_index = planetas.index(datos)\n",
    "\n",
    "print('Estos son los planetas más cercanos a: ' + datos)\n",
    "print(planetas[0:planet_index])\n",
    "\n",
    "print('Los planetas más lejanos a este son:' + datos)\n",
    "print(planetas[planet_index + 1:])"
   ]
  }
 ],
 "metadata": {
  "interpreter": {
   "hash": "7fcc193784bb334340e71d5e8060ff3281bfc6fe5965caccffdd0c0e6eb754c2"
  },
  "kernelspec": {
   "display_name": "Python 3.10.2 64-bit",
   "language": "python",
   "name": "python3"
  },
  "language_info": {
   "codemirror_mode": {
    "name": "ipython",
    "version": 3
   },
   "file_extension": ".py",
   "mimetype": "text/x-python",
   "name": "python",
   "nbconvert_exporter": "python",
   "pygments_lexer": "ipython3",
   "version": "3.10.2"
  },
  "orig_nbformat": 4
 },
 "nbformat": 4,
 "nbformat_minor": 2
}
