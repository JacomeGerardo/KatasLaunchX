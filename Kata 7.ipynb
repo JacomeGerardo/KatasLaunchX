{
 "cells": [
  {
   "cell_type": "markdown",
   "metadata": {},
   "source": [
    "## Kata 7"
   ]
  },
  {
   "cell_type": "code",
   "execution_count": 6,
   "metadata": {},
   "outputs": [
    {
     "ename": "NameError",
     "evalue": "name 'planets' is not defined",
     "output_type": "error",
     "traceback": [
      "\u001b[1;31m---------------------------------------------------------------------------\u001b[0m",
      "\u001b[1;31mNameError\u001b[0m                                 Traceback (most recent call last)",
      "\u001b[1;32mc:\\Users\\Jacome Gomez\\Desktop\\Academia\\Launch X\\Kata 7.ipynb Cell 2'\u001b[0m in \u001b[0;36m<module>\u001b[1;34m\u001b[0m\n\u001b[0;32m      <a href='vscode-notebook-cell:/c%3A/Users/Jacome%20Gomez/Desktop/Academia/Launch%20X/Kata%207.ipynb#ch0000002?line=5'>6</a>\u001b[0m         planeta\u001b[39m.\u001b[39mappend(nuevo_planeta)\n\u001b[0;32m      <a href='vscode-notebook-cell:/c%3A/Users/Jacome%20Gomez/Desktop/Academia/Launch%20X/Kata%207.ipynb#ch0000002?line=6'>7</a>\u001b[0m     nuevo_planeta \u001b[39m=\u001b[39m \u001b[39minput\u001b[39m(\u001b[39m\"\u001b[39m\u001b[39mHasta que usted diga \u001b[39m\u001b[39m'\u001b[39m\u001b[39mbasta\u001b[39m\u001b[39m'\u001b[39m\u001b[39maquí seguiremos\u001b[39m\u001b[39m\"\u001b[39m)\n\u001b[1;32m----> <a href='vscode-notebook-cell:/c%3A/Users/Jacome%20Gomez/Desktop/Academia/Launch%20X/Kata%207.ipynb#ch0000002?line=7'>8</a>\u001b[0m \u001b[39mfor\u001b[39;00m planet \u001b[39min\u001b[39;00m planets:\n\u001b[0;32m      <a href='vscode-notebook-cell:/c%3A/Users/Jacome%20Gomez/Desktop/Academia/Launch%20X/Kata%207.ipynb#ch0000002?line=8'>9</a>\u001b[0m     \u001b[39mprint\u001b[39m(planet)\n",
      "\u001b[1;31mNameError\u001b[0m: name 'planets' is not defined"
     ]
    }
   ],
   "source": [
    "nuevo_planeta = ''\n",
    "planeta = []\n",
    "\n",
    "while nuevo_planeta.lower() != \"basta\":\n",
    "    if nuevo_planeta:\n",
    "        planeta.append(nuevo_planeta)\n",
    "    nuevo_planeta = input(\"Hasta que usted diga 'basta'aquí seguiremos\")\n"
   ]
  },
  {
   "cell_type": "code",
   "execution_count": 8,
   "metadata": {},
   "outputs": [
    {
     "ename": "NameError",
     "evalue": "name 'planets' is not defined",
     "output_type": "error",
     "traceback": [
      "\u001b[1;31m---------------------------------------------------------------------------\u001b[0m",
      "\u001b[1;31mNameError\u001b[0m                                 Traceback (most recent call last)",
      "\u001b[1;32mc:\\Users\\Jacome Gomez\\Desktop\\Academia\\Launch X\\Kata 7.ipynb Cell 3'\u001b[0m in \u001b[0;36m<module>\u001b[1;34m\u001b[0m\n\u001b[1;32m----> <a href='vscode-notebook-cell:/c%3A/Users/Jacome%20Gomez/Desktop/Academia/Launch%20X/Kata%207.ipynb#ch0000004?line=0'>1</a>\u001b[0m \u001b[39mfor\u001b[39;00m planet \u001b[39min\u001b[39;00m planets:\n\u001b[0;32m      <a href='vscode-notebook-cell:/c%3A/Users/Jacome%20Gomez/Desktop/Academia/Launch%20X/Kata%207.ipynb#ch0000004?line=1'>2</a>\u001b[0m     \u001b[39mprint\u001b[39m(planet)\n\u001b[0;32m      <a href='vscode-notebook-cell:/c%3A/Users/Jacome%20Gomez/Desktop/Academia/Launch%20X/Kata%207.ipynb#ch0000004?line=2'>3</a>\u001b[0m     planets \u001b[39m=\u001b[39m \u001b[39minput\u001b[39m (escriba)\n",
      "\u001b[1;31mNameError\u001b[0m: name 'planets' is not defined"
     ]
    }
   ],
   "source": [
    "for planetas in planeta:\n",
    "    print(planetas)\n",
    "    planeta = input (escriba)"
   ]
  },
  {
   "cell_type": "code",
   "execution_count": 5,
   "metadata": {},
   "outputs": [
    {
     "ename": "NameError",
     "evalue": "name 'planets' is not defined",
     "output_type": "error",
     "traceback": [
      "\u001b[1;31m---------------------------------------------------------------------------\u001b[0m",
      "\u001b[1;31mNameError\u001b[0m                                 Traceback (most recent call last)",
      "\u001b[1;32mc:\\Users\\Jacome Gomez\\Desktop\\Academia\\Launch X\\Kata 7.ipynb Cell 3'\u001b[0m in \u001b[0;36m<module>\u001b[1;34m\u001b[0m\n\u001b[1;32m----> <a href='vscode-notebook-cell:/c%3A/Users/Jacome%20Gomez/Desktop/Academia/Launch%20X/Kata%207.ipynb#ch0000003?line=0'>1</a>\u001b[0m \u001b[39mfor\u001b[39;00m planet \u001b[39min\u001b[39;00m planets:\n\u001b[0;32m      <a href='vscode-notebook-cell:/c%3A/Users/Jacome%20Gomez/Desktop/Academia/Launch%20X/Kata%207.ipynb#ch0000003?line=1'>2</a>\u001b[0m     \u001b[39mprint\u001b[39m(planet)\n",
      "\u001b[1;31mNameError\u001b[0m: name 'planets' is not defined"
     ]
    }
   ],
   "source": []
  }
 ],
 "metadata": {
  "interpreter": {
   "hash": "7fcc193784bb334340e71d5e8060ff3281bfc6fe5965caccffdd0c0e6eb754c2"
  },
  "kernelspec": {
   "display_name": "Python 3.10.2 64-bit",
   "language": "python",
   "name": "python3"
  },
  "language_info": {
   "codemirror_mode": {
    "name": "ipython",
    "version": 3
   },
   "file_extension": ".py",
   "mimetype": "text/x-python",
   "name": "python",
   "nbconvert_exporter": "python",
   "pygments_lexer": "ipython3",
   "version": "3.10.2"
  },
  "orig_nbformat": 4
 },
 "nbformat": 4,
 "nbformat_minor": 2
}
